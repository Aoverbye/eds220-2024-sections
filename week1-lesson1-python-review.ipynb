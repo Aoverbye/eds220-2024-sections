{
 "cells": [
  {
   "cell_type": "markdown",
   "id": "4b01eedf-f77b-4be6-8ccf-ef7f73a3ac87",
   "metadata": {},
   "source": [
    "# Python Review \n",
    "\n",
    "Short review about some core concepts in Python exempolified by objects in the NumPy library. Goals:\n",
    "\n",
    "- recall basic Python vocabulary\n",
    "- practice markdown syntax"
   ]
  },
  {
   "cell_type": "markdown",
   "id": "3ff2f64e-a397-48b3-a8f2-600407ff3273",
   "metadata": {},
   "source": [
    "## Libraries and Packges\n",
    "**library:** is a collection of the code that we can use to perform specific tasks in our programs. It can be a single file or multiple files.\n",
    "\n",
    "**NumPy:**\n",
    "\n",
    "- core library for numerical computing in Python\n",
    "- many of libraries us NumPy arrays as their building blocks\n",
    "- computations on NumPy objects are optimized for speed and memory usage\n",
    "\n",
    "Let's import NumPy with its **standard abbreviations** `np`:"
   ]
  },
  {
   "cell_type": "code",
   "execution_count": 1,
   "id": "d5676895-fc07-4b93-8a7c-875465eac9cc",
   "metadata": {
    "tags": []
   },
   "outputs": [],
   "source": [
    "import numpy as np"
   ]
  },
  {
   "cell_type": "markdown",
   "id": "0e2e2aba-d256-4598-8e32-3e30d541fbfd",
   "metadata": {},
   "source": [
    "(esc + press M -> convert code to markdown cell)"
   ]
  },
  {
   "cell_type": "markdown",
   "id": "28cfaf21-27c8-4641-b572-ba195ca11117",
   "metadata": {},
   "source": [
    "## Variables\n",
    "**Variable:** a name we assign to a particular object in Python\n",
    "\n",
    "Example:"
   ]
  },
  {
   "cell_type": "code",
   "execution_count": 2,
   "id": "b152fa55-f63a-4669-a53b-6f2390fe7c22",
   "metadata": {
    "tags": []
   },
   "outputs": [],
   "source": [
    "# Assign a small array to variable a\n",
    "a = np.array([[1,1,2],[3,5,8]])"
   ]
  },
  {
   "cell_type": "markdown",
   "id": "4f3ced83-7ef7-41fa-aeda-7fc754f3d6e6",
   "metadata": {},
   "source": [
    "To view a variable's value from our Jupyter notebook:"
   ]
  },
  {
   "cell_type": "code",
   "execution_count": 3,
   "id": "2adaec66-b253-40bd-b695-5f1fb87a679c",
   "metadata": {
    "tags": []
   },
   "outputs": [
    {
     "data": {
      "text/plain": [
       "array([[1, 1, 2],\n",
       "       [3, 5, 8]])"
      ]
     },
     "execution_count": 3,
     "metadata": {},
     "output_type": "execute_result"
    }
   ],
   "source": [
    "# Show the value\n",
    "a"
   ]
  },
  {
   "cell_type": "code",
   "execution_count": 4,
   "id": "81cf5c6a-9d98-47d5-8b95-89260ae5f2e8",
   "metadata": {
    "tags": []
   },
   "outputs": [
    {
     "name": "stdout",
     "output_type": "stream",
     "text": [
      "[[1 1 2]\n",
      " [3 5 8]]\n"
     ]
    }
   ],
   "source": [
    "# Print the value \n",
    "print(a)"
   ]
  }
 ],
 "metadata": {
  "kernelspec": {
   "display_name": "Anaconda 3 (Base)",
   "language": "python",
   "name": "base"
  },
  "language_info": {
   "codemirror_mode": {
    "name": "ipython",
    "version": 3
   },
   "file_extension": ".py",
   "mimetype": "text/x-python",
   "name": "python",
   "nbconvert_exporter": "python",
   "pygments_lexer": "ipython3",
   "version": "3.9.13"
  }
 },
 "nbformat": 4,
 "nbformat_minor": 5
}
