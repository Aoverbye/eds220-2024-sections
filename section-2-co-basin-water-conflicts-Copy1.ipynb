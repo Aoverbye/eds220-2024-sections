{
 "cells": [
  {
   "cell_type": "code",
   "execution_count": 31,
   "id": "0941454d-d2dd-45ca-a485-cda93644ab6e",
   "metadata": {},
   "outputs": [],
   "source": [
    "# Load libraries\n",
    "import pandas as pd\n",
    "import numpy as np"
   ]
  },
  {
   "cell_type": "code",
   "execution_count": 77,
   "id": "a9683133-cded-433d-b1e6-338f452bd569",
   "metadata": {
    "tags": []
   },
   "outputs": [],
   "source": [
    "# Read in CSV\n",
    "\n",
    "df = pd.read_csv('data/Colorado_River_Basin_Water_Conflict_Table.csv')"
   ]
  },
  {
   "cell_type": "code",
   "execution_count": 69,
   "id": "ff16b027-c612-418e-a1a8-19edc8508df3",
   "metadata": {
    "tags": []
   },
   "outputs": [],
   "source": [
    "# Set options to show all columns \n",
    "pd.set_option(\"display.max_columns\", None)"
   ]
  },
  {
   "cell_type": "code",
   "execution_count": 70,
   "id": "1c01e75a-d062-42ec-8ebd-aecb28aac4a8",
   "metadata": {
    "tags": []
   },
   "outputs": [
    {
     "name": "stdout",
     "output_type": "stream",
     "text": [
      "<class 'pandas.core.frame.DataFrame'>\n",
      "RangeIndex: 268 entries, 0 to 267\n",
      "Data columns (total 48 columns):\n",
      " #   Column                                        Non-Null Count  Dtype  \n",
      "---  ------                                        --------------  -----  \n",
      " 0   Event                                         268 non-null    int64  \n",
      " 1   Search Source                                 268 non-null    object \n",
      " 2   Newspaper                                     268 non-null    object \n",
      " 3   Article Title                                 268 non-null    object \n",
      " 4   Duplicate                                     267 non-null    object \n",
      " 5   Report Date                                   267 non-null    object \n",
      " 6   Report Year                                   265 non-null    float64\n",
      " 7   Event Date                                    248 non-null    object \n",
      " 8   Event Day                                     18 non-null     float64\n",
      " 9   Event Month                                   212 non-null    float64\n",
      " 10  Event Year                                    257 non-null    float64\n",
      " 11  Conflict Present                              252 non-null    object \n",
      " 12  Crisis Present                                254 non-null    object \n",
      " 13  Basin                                         250 non-null    object \n",
      " 14  HUC6                                          110 non-null    object \n",
      " 15  HUC2                                          250 non-null    object \n",
      " 16  Place                                         254 non-null    object \n",
      " 17  County                                        8 non-null      object \n",
      " 18  County FIPS                                   8 non-null      float64\n",
      " 19  State                                         178 non-null    object \n",
      " 20  State FIPS                                    178 non-null    object \n",
      " 21  Urban or Rural                                254 non-null    object \n",
      " 22  Issue Type                                    255 non-null    object \n",
      " 23  Event Summary                                 256 non-null    object \n",
      " 24  Stakeholders                                  255 non-null    object \n",
      " 25  Intensity Value                               255 non-null    float64\n",
      " 26  Comments                                      190 non-null    object \n",
      " 27  Related Observation Themes                    86 non-null     object \n",
      " 28  Article Text Search - water quality           268 non-null    int64  \n",
      " 29  Article Text Search - invasive species        268 non-null    int64  \n",
      " 30  Article Text Search - conservation            268 non-null    int64  \n",
      " 31  Article Text Search - drought                 268 non-null    int64  \n",
      " 32  Article Text Search - flood                   268 non-null    int64  \n",
      " 33  Article Text Search - ground water depletion  268 non-null    int64  \n",
      " 34  Article Text Search - depletion               268 non-null    int64  \n",
      " 35  Article Text Search - infrastructure          268 non-null    int64  \n",
      " 36  Article Text Search - fish passage            268 non-null    int64  \n",
      " 37  Article Text Search - instream water rights   268 non-null    int64  \n",
      " 38  Article Text Search - water rights            268 non-null    int64  \n",
      " 39  Article Text Search - intergovernmental       268 non-null    int64  \n",
      " 40  Article Text Search - water transfers         268 non-null    int64  \n",
      " 41  Article Text Search - navigation              268 non-null    int64  \n",
      " 42  Article Text Search - fish                    268 non-null    int64  \n",
      " 43  Article Text Search - invasive                268 non-null    int64  \n",
      " 44  Article Text Search - diversion               268 non-null    int64  \n",
      " 45  Article Text Search - water diversion         268 non-null    int64  \n",
      " 46  Article Text Search - instream                268 non-null    int64  \n",
      " 47  Article Text Search - aquatic                 268 non-null    int64  \n",
      "dtypes: float64(6), int64(21), object(21)\n",
      "memory usage: 100.6+ KB\n"
     ]
    }
   ],
   "source": [
    "# Look at df info\n",
    "df.info()"
   ]
  },
  {
   "cell_type": "code",
   "execution_count": 71,
   "id": "7b5d3485-0052-426b-9415-e309af7f5445",
   "metadata": {
    "tags": []
   },
   "outputs": [
    {
     "data": {
      "text/plain": [
       "0          CO\n",
       "1          CO\n",
       "2          UT\n",
       "3         NaN\n",
       "4         NaN\n",
       "        ...  \n",
       "263        CO\n",
       "264        CO\n",
       "265    AZ; CA\n",
       "266        AZ\n",
       "267        AZ\n",
       "Name: State, Length: 268, dtype: object"
      ]
     },
     "execution_count": 71,
     "metadata": {},
     "output_type": "execute_result"
    }
   ],
   "source": [
    "df['State']"
   ]
  },
  {
   "cell_type": "code",
   "execution_count": 23,
   "id": "645b8ef0-304d-4bbc-86b2-762757093009",
   "metadata": {
    "tags": []
   },
   "outputs": [
    {
     "data": {
      "text/plain": [
       "(268, 48)"
      ]
     },
     "execution_count": 23,
     "metadata": {},
     "output_type": "execute_result"
    }
   ],
   "source": [
    "# View df shape\n",
    "df.shape"
   ]
  },
  {
   "cell_type": "code",
   "execution_count": 24,
   "id": "5bfd31ed-2a42-4ba9-ae7c-4c330056b5b6",
   "metadata": {
    "tags": []
   },
   "outputs": [
    {
     "data": {
      "text/plain": [
       "Index(['Event', 'Search Source', 'Newspaper', 'Article Title', 'Duplicate',\n",
       "       'Report Date', 'Report Year', 'Event Date', 'Event Day', 'Event Month',\n",
       "       'Event Year', 'Conflict Present', 'Crisis Present', 'Basin', 'HUC6',\n",
       "       'HUC2', 'Place', 'County', 'County FIPS', 'State', 'State FIPS',\n",
       "       'Urban or Rural', 'Issue Type', 'Event Summary', 'Stakeholders',\n",
       "       'Intensity Value', 'Comments', 'Related Observation Themes',\n",
       "       'Article Text Search - water quality',\n",
       "       'Article Text Search - invasive species',\n",
       "       'Article Text Search - conservation', 'Article Text Search - drought',\n",
       "       'Article Text Search - flood',\n",
       "       'Article Text Search - ground water depletion',\n",
       "       'Article Text Search - depletion',\n",
       "       'Article Text Search - infrastructure',\n",
       "       'Article Text Search - fish passage',\n",
       "       'Article Text Search - instream water rights',\n",
       "       'Article Text Search - water rights',\n",
       "       'Article Text Search - intergovernmental',\n",
       "       'Article Text Search - water transfers',\n",
       "       'Article Text Search - navigation', 'Article Text Search - fish',\n",
       "       'Article Text Search - invasive', 'Article Text Search - diversion',\n",
       "       'Article Text Search - water diversion',\n",
       "       'Article Text Search - instream', 'Article Text Search - aquatic'],\n",
       "      dtype='object')"
      ]
     },
     "execution_count": 24,
     "metadata": {},
     "output_type": "execute_result"
    }
   ],
   "source": [
    "# Look at columns\n",
    "df.columns"
   ]
  },
  {
   "cell_type": "code",
   "execution_count": 30,
   "id": "ab9c11ba-7d28-4727-b782-0eb71ad49b0f",
   "metadata": {
    "tags": []
   },
   "outputs": [
    {
     "name": "stdout",
     "output_type": "stream",
     "text": [
      "Event                                             int64\n",
      "Search Source                                    object\n",
      "Newspaper                                        object\n",
      "Article Title                                    object\n",
      "Duplicate                                        object\n",
      "Report Date                                      object\n",
      "Report Year                                     float64\n",
      "Event Date                                       object\n",
      "Event Day                                       float64\n",
      "Event Month                                     float64\n",
      "Event Year                                      float64\n",
      "Conflict Present                                 object\n",
      "Crisis Present                                   object\n",
      "Basin                                            object\n",
      "HUC6                                             object\n",
      "HUC2                                             object\n",
      "Place                                            object\n",
      "County                                           object\n",
      "County FIPS                                     float64\n",
      "State                                            object\n",
      "State FIPS                                       object\n",
      "Urban or Rural                                   object\n",
      "Issue Type                                       object\n",
      "Event Summary                                    object\n",
      "Stakeholders                                     object\n",
      "Intensity Value                                 float64\n",
      "Comments                                         object\n",
      "Related Observation Themes                       object\n",
      "Article Text Search - water quality               int64\n",
      "Article Text Search - invasive species            int64\n",
      "Article Text Search - conservation                int64\n",
      "Article Text Search - drought                     int64\n",
      "Article Text Search - flood                       int64\n",
      "Article Text Search - ground water depletion      int64\n",
      "Article Text Search - depletion                   int64\n",
      "Article Text Search - infrastructure              int64\n",
      "Article Text Search - fish passage                int64\n",
      "Article Text Search - instream water rights       int64\n",
      "Article Text Search - water rights                int64\n",
      "Article Text Search - intergovernmental           int64\n",
      "Article Text Search - water transfers             int64\n",
      "Article Text Search - navigation                  int64\n",
      "Article Text Search - fish                        int64\n",
      "Article Text Search - invasive                    int64\n",
      "Article Text Search - diversion                   int64\n",
      "Article Text Search - water diversion             int64\n",
      "Article Text Search - instream                    int64\n",
      "Article Text Search - aquatic                     int64\n",
      "dtype: object\n"
     ]
    }
   ],
   "source": [
    "# Look at data types\n",
    "print(df.dtypes)"
   ]
  },
  {
   "cell_type": "code",
   "execution_count": 32,
   "id": "ae3f46d4-d46b-442f-a384-c64abf611b2e",
   "metadata": {
    "tags": []
   },
   "outputs": [
    {
     "data": {
      "text/plain": [
       "0    California; Nevada\n",
       "1               Arizona\n",
       "2                   NaN\n",
       "3          Nevada; Utah\n",
       "dtype: object"
      ]
     },
     "execution_count": 32,
     "metadata": {},
     "output_type": "execute_result"
    }
   ],
   "source": [
    "# Example series\n",
    "s = pd.Series(['California; Nevada', 'Arizona', np.nan, 'Nevada; Utah'])\n",
    "s"
   ]
  },
  {
   "cell_type": "code",
   "execution_count": 33,
   "id": "55e58032-e052-492c-8695-5e8dff55d828",
   "metadata": {
    "tags": []
   },
   "outputs": [
    {
     "data": {
      "text/plain": [
       "<pandas.core.strings.accessor.StringMethods at 0x7fe59bccde50>"
      ]
     },
     "execution_count": 33,
     "metadata": {},
     "output_type": "execute_result"
    }
   ],
   "source": [
    "# str accessor (doesn't do anything by itself)\n",
    "s.str"
   ]
  },
  {
   "cell_type": "code",
   "execution_count": 34,
   "id": "b8532239-9ffb-406c-b7f3-9a7adfc1db46",
   "metadata": {
    "tags": []
   },
   "outputs": [
    {
     "data": {
      "text/plain": [
       "0  0    California\n",
       "   1        Nevada\n",
       "1  0       Arizona\n",
       "3  0        Nevada\n",
       "   1          Utah\n",
       "dtype: object"
      ]
     },
     "execution_count": 34,
     "metadata": {},
     "output_type": "execute_result"
    }
   ],
   "source": [
    "# Use stack() method to flatten the data frame into a series\n",
    "# default is to drop NAs and None from result\n",
    "s.str.split(';', expand=True).stack()"
   ]
  },
  {
   "cell_type": "code",
   "execution_count": 36,
   "id": "609805d0-9ffd-4cce-9d4a-02990cbac5e5",
   "metadata": {
    "tags": []
   },
   "outputs": [
    {
     "data": {
      "text/plain": [
       "23"
      ]
     },
     "execution_count": 36,
     "metadata": {},
     "output_type": "execute_result"
    }
   ],
   "source": [
    "# Find number of unique states\n",
    "df['State'].nunique()"
   ]
  },
  {
   "cell_type": "code",
   "execution_count": 37,
   "id": "2eab29a3-1f8f-450a-a680-c510f9ad94c2",
   "metadata": {
    "tags": []
   },
   "outputs": [
    {
     "data": {
      "text/plain": [
       "array(['CO', 'UT', nan, 'AZ', 'OH; UT', 'AZ; CO; NM; UT', 'CA', 'AZ; UT',\n",
       "       'AZ; NV', 'CO; UT; WY; NM', 'AZ; CA', 'UT; AZ', 'CO; WY', 'NV; AZ',\n",
       "       'CO; AZ', 'AZ; CA; CO; NV; NM; UT; WY', 'AZ; CA; NV', 'NV', 'NM',\n",
       "       'UT; CO; WY', 'CA; NV; AZ', 'AZ; NM', 'WY; UT; CO', 'TX'],\n",
       "      dtype=object)"
      ]
     },
     "execution_count": 37,
     "metadata": {},
     "output_type": "execute_result"
    }
   ],
   "source": [
    "# Find value of state\n",
    "df['State'].unique()"
   ]
  },
  {
   "cell_type": "markdown",
   "id": "5365bea1-ea69-4446-9693-27b4e3a8b96c",
   "metadata": {},
   "source": [
    "The unique values are the names of several different states, but because there a multiple unique options in the same state, that state will show up multiple time"
   ]
  },
  {
   "cell_type": "code",
   "execution_count": 52,
   "id": "fe50ce57-bbb4-4324-8661-56a44c0a79a0",
   "metadata": {
    "tags": []
   },
   "outputs": [],
   "source": [
    "# Strip columns with ;\n",
    "df_strip = df['State'].str.strip('; ')"
   ]
  },
  {
   "cell_type": "code",
   "execution_count": 54,
   "id": "202125b7-6b7c-4447-ade6-b4ecf3e2b625",
   "metadata": {
    "tags": []
   },
   "outputs": [
    {
     "data": {
      "text/plain": [
       "0          CO\n",
       "1          CO\n",
       "2          UT\n",
       "3         NaN\n",
       "4         NaN\n",
       "        ...  \n",
       "263        CO\n",
       "264        CO\n",
       "265    AZ; CA\n",
       "266        AZ\n",
       "267        AZ\n",
       "Name: State, Length: 268, dtype: object"
      ]
     },
     "execution_count": 54,
     "metadata": {},
     "output_type": "execute_result"
    }
   ],
   "source": [
    "df_strip"
   ]
  },
  {
   "cell_type": "code",
   "execution_count": 56,
   "id": "2731318b-8daa-46c8-b4ee-87392a385d68",
   "metadata": {
    "tags": []
   },
   "outputs": [],
   "source": [
    "df_split = df['State'].str.split('; ', expand=True).stack()"
   ]
  },
  {
   "cell_type": "code",
   "execution_count": 57,
   "id": "b4233b63-519d-4cae-8ebb-f14d142e2e70",
   "metadata": {
    "tags": []
   },
   "outputs": [
    {
     "data": {
      "text/plain": [
       "0    0    CO\n",
       "1    0    CO\n",
       "2    0    UT\n",
       "5    0    AZ\n",
       "11   0    OH\n",
       "          ..\n",
       "264  0    CO\n",
       "265  0    AZ\n",
       "     1    CA\n",
       "266  0    AZ\n",
       "267  0    AZ\n",
       "Length: 230, dtype: object"
      ]
     },
     "execution_count": 57,
     "metadata": {},
     "output_type": "execute_result"
    }
   ],
   "source": [
    "df_split"
   ]
  },
  {
   "cell_type": "code",
   "execution_count": 74,
   "id": "beb6b586-e1a3-4419-98c4-5c207db8e118",
   "metadata": {
    "tags": []
   },
   "outputs": [
    {
     "data": {
      "text/html": [
       "<div>\n",
       "<style scoped>\n",
       "    .dataframe tbody tr th:only-of-type {\n",
       "        vertical-align: middle;\n",
       "    }\n",
       "\n",
       "    .dataframe tbody tr th {\n",
       "        vertical-align: top;\n",
       "    }\n",
       "\n",
       "    .dataframe thead th {\n",
       "        text-align: right;\n",
       "    }\n",
       "</style>\n",
       "<table border=\"1\" class=\"dataframe\">\n",
       "  <thead>\n",
       "    <tr style=\"text-align: right;\">\n",
       "      <th></th>\n",
       "      <th>0</th>\n",
       "      <th>1</th>\n",
       "      <th>2</th>\n",
       "      <th>3</th>\n",
       "      <th>4</th>\n",
       "      <th>5</th>\n",
       "      <th>6</th>\n",
       "    </tr>\n",
       "  </thead>\n",
       "  <tbody>\n",
       "    <tr>\n",
       "      <th>0</th>\n",
       "      <td>CO</td>\n",
       "      <td>None</td>\n",
       "      <td>None</td>\n",
       "      <td>None</td>\n",
       "      <td>None</td>\n",
       "      <td>None</td>\n",
       "      <td>None</td>\n",
       "    </tr>\n",
       "    <tr>\n",
       "      <th>1</th>\n",
       "      <td>CO</td>\n",
       "      <td>None</td>\n",
       "      <td>None</td>\n",
       "      <td>None</td>\n",
       "      <td>None</td>\n",
       "      <td>None</td>\n",
       "      <td>None</td>\n",
       "    </tr>\n",
       "    <tr>\n",
       "      <th>2</th>\n",
       "      <td>UT</td>\n",
       "      <td>None</td>\n",
       "      <td>None</td>\n",
       "      <td>None</td>\n",
       "      <td>None</td>\n",
       "      <td>None</td>\n",
       "      <td>None</td>\n",
       "    </tr>\n",
       "    <tr>\n",
       "      <th>3</th>\n",
       "      <td>NaN</td>\n",
       "      <td>NaN</td>\n",
       "      <td>NaN</td>\n",
       "      <td>NaN</td>\n",
       "      <td>NaN</td>\n",
       "      <td>NaN</td>\n",
       "      <td>NaN</td>\n",
       "    </tr>\n",
       "    <tr>\n",
       "      <th>4</th>\n",
       "      <td>NaN</td>\n",
       "      <td>NaN</td>\n",
       "      <td>NaN</td>\n",
       "      <td>NaN</td>\n",
       "      <td>NaN</td>\n",
       "      <td>NaN</td>\n",
       "      <td>NaN</td>\n",
       "    </tr>\n",
       "    <tr>\n",
       "      <th>...</th>\n",
       "      <td>...</td>\n",
       "      <td>...</td>\n",
       "      <td>...</td>\n",
       "      <td>...</td>\n",
       "      <td>...</td>\n",
       "      <td>...</td>\n",
       "      <td>...</td>\n",
       "    </tr>\n",
       "    <tr>\n",
       "      <th>263</th>\n",
       "      <td>CO</td>\n",
       "      <td>None</td>\n",
       "      <td>None</td>\n",
       "      <td>None</td>\n",
       "      <td>None</td>\n",
       "      <td>None</td>\n",
       "      <td>None</td>\n",
       "    </tr>\n",
       "    <tr>\n",
       "      <th>264</th>\n",
       "      <td>CO</td>\n",
       "      <td>None</td>\n",
       "      <td>None</td>\n",
       "      <td>None</td>\n",
       "      <td>None</td>\n",
       "      <td>None</td>\n",
       "      <td>None</td>\n",
       "    </tr>\n",
       "    <tr>\n",
       "      <th>265</th>\n",
       "      <td>AZ</td>\n",
       "      <td>CA</td>\n",
       "      <td>None</td>\n",
       "      <td>None</td>\n",
       "      <td>None</td>\n",
       "      <td>None</td>\n",
       "      <td>None</td>\n",
       "    </tr>\n",
       "    <tr>\n",
       "      <th>266</th>\n",
       "      <td>AZ</td>\n",
       "      <td>None</td>\n",
       "      <td>None</td>\n",
       "      <td>None</td>\n",
       "      <td>None</td>\n",
       "      <td>None</td>\n",
       "      <td>None</td>\n",
       "    </tr>\n",
       "    <tr>\n",
       "      <th>267</th>\n",
       "      <td>AZ</td>\n",
       "      <td>None</td>\n",
       "      <td>None</td>\n",
       "      <td>None</td>\n",
       "      <td>None</td>\n",
       "      <td>None</td>\n",
       "      <td>None</td>\n",
       "    </tr>\n",
       "  </tbody>\n",
       "</table>\n",
       "<p>268 rows × 7 columns</p>\n",
       "</div>"
      ],
      "text/plain": [
       "       0     1     2     3     4     5     6\n",
       "0     CO  None  None  None  None  None  None\n",
       "1     CO  None  None  None  None  None  None\n",
       "2     UT  None  None  None  None  None  None\n",
       "3    NaN   NaN   NaN   NaN   NaN   NaN   NaN\n",
       "4    NaN   NaN   NaN   NaN   NaN   NaN   NaN\n",
       "..   ...   ...   ...   ...   ...   ...   ...\n",
       "263   CO  None  None  None  None  None  None\n",
       "264   CO  None  None  None  None  None  None\n",
       "265   AZ    CA  None  None  None  None  None\n",
       "266   AZ  None  None  None  None  None  None\n",
       "267   AZ  None  None  None  None  None  None\n",
       "\n",
       "[268 rows x 7 columns]"
      ]
     },
     "execution_count": 74,
     "metadata": {},
     "output_type": "execute_result"
    }
   ],
   "source": [
    "df[\"State\"].str.split(\";\", expand = True)"
   ]
  },
  {
   "cell_type": "code",
   "execution_count": 65,
   "id": "ad54bdc6-8e51-4e91-9ac2-2d07ee2e186f",
   "metadata": {
    "tags": []
   },
   "outputs": [
    {
     "data": {
      "text/plain": [
       "array(['CO', 'UT', 'AZ', 'OH', 'NM', 'CA', 'NV', 'WY', 'TX'], dtype=object)"
      ]
     },
     "execution_count": 65,
     "metadata": {},
     "output_type": "execute_result"
    }
   ],
   "source": [
    "# Splitting and stacking\n",
    "df['State'].str.split('; ', expand=True).stack().unique()"
   ]
  },
  {
   "cell_type": "code",
   "execution_count": 68,
   "id": "f5d65432-58bf-4626-a038-6655b2302d61",
   "metadata": {
    "tags": []
   },
   "outputs": [
    {
     "data": {
      "text/plain": [
       "0    CO\n",
       "1    UT\n",
       "2    AZ\n",
       "3    OH\n",
       "4    NM\n",
       "5    CA\n",
       "6    NV\n",
       "7    WY\n",
       "8    TX\n",
       "dtype: object"
      ]
     },
     "execution_count": 68,
     "metadata": {},
     "output_type": "execute_result"
    }
   ],
   "source": [
    "pd.Series(df['State'].str.split('; ', expand=True).stack().unique())"
   ]
  },
  {
   "cell_type": "code",
   "execution_count": 63,
   "id": "5a83a8e8-6099-46a3-ba38-e05707a67391",
   "metadata": {
    "tags": []
   },
   "outputs": [],
   "source": [
    "df_nsplit = df['State'].str.split('; ', expand=True).stack().nunique()"
   ]
  },
  {
   "cell_type": "code",
   "execution_count": 64,
   "id": "14380da4-3eef-48cf-928e-6f1fd5a66a88",
   "metadata": {
    "tags": []
   },
   "outputs": [
    {
     "data": {
      "text/plain": [
       "9"
      ]
     },
     "execution_count": 64,
     "metadata": {},
     "output_type": "execute_result"
    }
   ],
   "source": [
    "df_nsplit"
   ]
  },
  {
   "cell_type": "code",
   "execution_count": 79,
   "id": "e691c310-5424-477d-bbeb-37630f4a950c",
   "metadata": {
    "tags": []
   },
   "outputs": [
    {
     "data": {
      "text/plain": [
       "AZ    87\n",
       "CO    45\n",
       "UT    40\n",
       "NV    19\n",
       "CA    16\n",
       "NM    13\n",
       "WY     8\n",
       "OH     1\n",
       "TX     1\n",
       "dtype: int64"
      ]
     },
     "execution_count": 79,
     "metadata": {},
     "output_type": "execute_result"
    }
   ],
   "source": [
    "# Count the articles in each state\n",
    "df[\"State\"].str.split(\";\", expand = True).stack().str.strip().value_counts()"
   ]
  }
 ],
 "metadata": {
  "kernelspec": {
   "display_name": "Anaconda 3 (Base)",
   "language": "python",
   "name": "base"
  },
  "language_info": {
   "codemirror_mode": {
    "name": "ipython",
    "version": 3
   },
   "file_extension": ".py",
   "mimetype": "text/x-python",
   "name": "python",
   "nbconvert_exporter": "python",
   "pygments_lexer": "ipython3",
   "version": "3.9.13"
  }
 },
 "nbformat": 4,
 "nbformat_minor": 5
}
